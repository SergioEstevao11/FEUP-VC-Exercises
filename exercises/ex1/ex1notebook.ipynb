{
 "cells": [
  {
   "cell_type": "code",
   "execution_count": 1,
   "metadata": {},
   "outputs": [],
   "source": [
    "from PIL import Image\n",
    "import cv2\n",
    "\n",
    "\n",
    "filepath = \"images/apple.jpg\"\n",
    "img = Image.open(filepath)"
   ]
  },
  {
   "cell_type": "code",
   "execution_count": 13,
   "metadata": {},
   "outputs": [
    {
     "name": "stdout",
     "output_type": "stream",
     "text": [
      "The height of the image is:  224\n",
      "The width of the image is:  224\n"
     ]
    }
   ],
   "source": [
    "#1a\n",
    "img.show()\n",
    "  \n",
    "# get width and height\n",
    "width = img.width\n",
    "height = img.height\n",
    "  \n",
    "# display width and height\n",
    "print(\"The height of the image is: \", height)\n",
    "print(\"The width of the image is: \", width)"
   ]
  },
  {
   "cell_type": "code",
   "execution_count": 14,
   "metadata": {},
   "outputs": [],
   "source": [
    "#1b\n",
    "img.save('images/apple.bmp')"
   ]
  },
  {
   "cell_type": "code",
   "execution_count": 6,
   "metadata": {},
   "outputs": [
    {
     "name": "stdout",
     "output_type": "stream",
     "text": [
      "Red:  255\n",
      "Green:  255\n",
      "Blue:  255\n",
      "BRG Format:  [255 255 255]\n",
      "Coordinates of pixel: X:  66 Y:  14\n",
      "Red:  255\n",
      "Green:  255\n",
      "Blue:  255\n",
      "BRG Format:  [255 255 255]\n",
      "Coordinates of pixel: X:  172 Y:  53\n"
     ]
    },
    {
     "ename": "UnboundLocalError",
     "evalue": "local variable 'first_point' referenced before assignment",
     "output_type": "error",
     "traceback": [
      "\u001b[0;31m---------------------------------------------------------------------------\u001b[0m",
      "\u001b[0;31mUnboundLocalError\u001b[0m                         Traceback (most recent call last)",
      "Cell \u001b[0;32mIn [6], line 30\u001b[0m, in \u001b[0;36mclick_event\u001b[0;34m(event, x, y, flags, param)\u001b[0m\n\u001b[1;32m     27\u001b[0m second_point \u001b[39m=\u001b[39m [x,y]\n\u001b[1;32m     28\u001b[0m is_second_point \u001b[39m=\u001b[39m \u001b[39mFalse\u001b[39;00m\n\u001b[0;32m---> 30\u001b[0m roi_img \u001b[39m=\u001b[39m img[first_point[\u001b[39m1\u001b[39m]:second_point[\u001b[39m1\u001b[39m], first_point[\u001b[39m0\u001b[39m]:second_point[\u001b[39m0\u001b[39m]]\n\u001b[1;32m     31\u001b[0m roi_img\u001b[39m.\u001b[39msave(\u001b[39m'\u001b[39m\u001b[39mroi_img.jpg\u001b[39m\u001b[39m'\u001b[39m)\n",
      "\u001b[0;31mUnboundLocalError\u001b[0m: local variable 'first_point' referenced before assignment"
     ]
    }
   ],
   "source": [
    "\n",
    "is_second_point = False\n",
    "\n",
    "def click_event(event,x,y,flags,param):\n",
    "\n",
    "    global is_second_point\n",
    "\n",
    "    if event == cv2.EVENT_LBUTTONDOWN: #checks mouse left button down condition\n",
    "        colorsB = img[y,x,0]\n",
    "        colorsG = img[y,x,1]\n",
    "        colorsR = img[y,x,2]\n",
    "        colors = img[y,x]\n",
    "        print(\"Red: \",colorsR)\n",
    "        print(\"Green: \",colorsG)\n",
    "        print(\"Blue: \",colorsB)\n",
    "        print(\"BRG Format: \",colors)\n",
    "        print(\"Coordinates of pixel: X: \",x,\"Y: \",y)\n",
    "\n",
    "        img[y, x] = [0,0,0]\n",
    "\n",
    "        cv2.imshow('image', img)\n",
    "        # ROI points\n",
    "\n",
    "        if not is_second_point:\n",
    "            first_point = [x,y]\n",
    "            is_second_point =  True\n",
    "        elif is_second_point:\n",
    "            second_point = [x,y]\n",
    "            is_second_point = False\n",
    "\n",
    "            roi_img = img[first_point[1]:second_point[1], first_point[0]:second_point[0]]\n",
    "            roi_img.save('roi_img.jpg')\n",
    "\n",
    "\n",
    "\n",
    "\n",
    "\n",
    "img = cv2.imread('images/apple.jpg', 1)\n",
    "  \n",
    "# displaying the image\n",
    "cv2.imshow('image', img)\n",
    "\n",
    "# setting mouse handler for the image\n",
    "# and calling the click_event() function\n",
    "cv2.setMouseCallback('image', click_event)\n",
    "\n",
    "# wait for a key to be pressed to exit\n",
    "cv2.waitKey(0)\n",
    "\n",
    "# close the window\n",
    "cv2.destroyAllWindows()"
   ]
  }
 ],
 "metadata": {
  "kernelspec": {
   "display_name": "feup",
   "language": "python",
   "name": "python3"
  },
  "language_info": {
   "codemirror_mode": {
    "name": "ipython",
    "version": 3
   },
   "file_extension": ".py",
   "mimetype": "text/x-python",
   "name": "python",
   "nbconvert_exporter": "python",
   "pygments_lexer": "ipython3",
   "version": "3.8.15"
  },
  "orig_nbformat": 4,
  "vscode": {
   "interpreter": {
    "hash": "18ffb445b139a7aefc196252d7bd047e8ecc0ee8e10d518274d7495d5a3d6e20"
   }
  }
 },
 "nbformat": 4,
 "nbformat_minor": 2
}
